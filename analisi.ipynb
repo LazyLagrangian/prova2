{
 "cells": [
  {
   "cell_type": "code",
   "execution_count": 96,
   "metadata": {},
   "outputs": [],
   "source": [
    "import numpy as np\n",
    "import matplotlib.pyplot as plt\n",
    "import pandas as pd\n",
    "from scipy.odr import ODR, Model, RealData"
   ]
  },
  {
   "cell_type": "markdown",
   "metadata": {},
   "source": [
    "Defining functions"
   ]
  },
  {
   "cell_type": "code",
   "execution_count": 97,
   "metadata": {},
   "outputs": [],
   "source": [
    "def linear_regression(x, y, err):\n",
    "    s1 = np.sum(1/(err**2))\n",
    "    sx = np.sum(x/(err**2))\n",
    "    sy = np.sum(y/(err**2))\n",
    "    sxx = np.sum(x**2/(err**2))\n",
    "    sxy = np.sum(x*y/(err**2))\n",
    "\n",
    "    d = s1*sxx-sx*sx\n",
    "    v = np.array([[sxx, -sx], [-sx, s1]])/d\n",
    "\n",
    "    a = (sy*sxx-sx*sxy)/d\n",
    "    b = (s1*sxy-sx*sy)/d\n",
    "    sig_a = np.sqrt(v[0][0])\n",
    "    sig_b = np.sqrt(v[1][1])\n",
    "\n",
    "    return (a, sig_a, b, sig_b, v)"
   ]
  },
  {
   "cell_type": "code",
   "execution_count": 98,
   "metadata": {},
   "outputs": [],
   "source": [
    "def f(B, x):\n",
    "    return B[1]*x + B[0]"
   ]
  },
  {
   "cell_type": "markdown",
   "metadata": {},
   "source": [
    "Importing data"
   ]
  },
  {
   "cell_type": "code",
   "execution_count": 99,
   "metadata": {},
   "outputs": [],
   "source": [
    "df = pd.read_csv('prova2.csv')\n",
    "\n",
    "v = np.array(df['Tensione (V) per 0.14']).astype(float)\n",
    "i = np.array(df['Corrente (mA) per 0.14']).astype(float)\n",
    "\n",
    "di = np.array(df['errore i 0.14']).astype(float)\n",
    "dv = np.array(df['errore v 0.14']).astype(float)\n",
    "\n",
    "v2 = np.array(df['Tensione (V) per 0.07']).astype(float)\n",
    "i2 = np.array(df['Corrente (mA) per 0.07']).astype(float)\n",
    "\n",
    "di2 = np.array(df['errore i 0.07']).astype(float)\n",
    "dv2 = np.array(df['errore v 0.07']).astype(float)"
   ]
  },
  {
   "cell_type": "markdown",
   "metadata": {},
   "source": [
    "Fit caso V = 0.014"
   ]
  },
  {
   "cell_type": "code",
   "execution_count": 100,
   "metadata": {},
   "outputs": [
    {
     "name": "stdout",
     "output_type": "stream",
     "text": [
      "Beta: [-16.57115617   0.79859648]\n",
      "Beta Std Error: [0.44518681 0.01916724]\n",
      "Beta Covariance: [[ 1.98151919 -0.08520093]\n",
      " [-0.08520093  0.0036731 ]]\n",
      "Residual Variance: 0.10001987378957163\n",
      "Inverse Condition #: 0.0021204303990157727\n",
      "Reason(s) for Halting:\n",
      "  Sum of squares convergence\n"
     ]
    }
   ],
   "source": [
    "linear = Model(f)\n",
    "mydata = RealData(i[:v.size-3],v[:v.size-3],sx=di[:v.size-3], sy=dv[:v.size-3])\n",
    "myodr = ODR(mydata, linear, beta0=[1., 1.])\n",
    "myoutput = myodr.run()\n",
    "myoutput.pprint()"
   ]
  },
  {
   "cell_type": "code",
   "execution_count": 101,
   "metadata": {},
   "outputs": [],
   "source": [
    "a,b = myoutput.beta\n",
    "da,db = myoutput.sd_beta\n",
    "cov = myoutput.cov_beta"
   ]
  },
  {
   "cell_type": "code",
   "execution_count": 102,
   "metadata": {},
   "outputs": [
    {
     "name": "stderr",
     "output_type": "stream",
     "text": [
      "/var/folders/bd/5ss8qyms4cd6_t67dg1pjhbw0000gn/T/ipykernel_71452/638583373.py:3: UserWarning: marker is redundantly defined by the 'marker' keyword argument and the fmt string \"o\" (-> marker='o'). The keyword argument will take precedence.\n",
      "  ax.errorbar(v, i, xerr= dv, yerr= di, fmt=\"o\", label = 'data', marker = '.', markerfacecolor='white', markersize=10)\n"
     ]
    },
    {
     "data": {
      "text/plain": [
       "<matplotlib.legend.Legend at 0x1376fc510>"
      ]
     },
     "execution_count": 102,
     "metadata": {},
     "output_type": "execute_result"
    },
    {
     "data": {
      "image/png": "[encoded data removed]",
      "text/plain": [
       "<Figure size 640x480 with 1 Axes>"
      ]
     },
     "metadata": {},
     "output_type": "display_data"
    }
   ],
   "source": [
    "fig, ax = plt.subplots()\n",
    "ax.plot(a+b*i[:v.size-3], i[:v.size-3], label = 'fit')\n",
    "ax.errorbar(v, i, xerr= dv, yerr= di, fmt=\"o\", label = 'data', marker = '.', markerfacecolor='white', markersize=10)\n",
    "plt.legend()"
   ]
  },
  {
   "cell_type": "markdown",
   "metadata": {},
   "source": [
    "Fit caso 0.07"
   ]
  },
  {
   "cell_type": "code",
   "execution_count": 103,
   "metadata": {},
   "outputs": [
    {
     "name": "stdout",
     "output_type": "stream",
     "text": [
      "Beta: [-23.43361775   1.76483384]\n",
      "Beta Std Error: [0.79299477 0.05486423]\n",
      "Beta Covariance: [[ 6.74500056 -0.46632758]\n",
      " [-0.46632758  0.03228642]]\n",
      "Residual Variance: 0.0932306373779334\n",
      "Inverse Condition #: 0.0024494314036375238\n",
      "Reason(s) for Halting:\n",
      "  Sum of squares convergence\n"
     ]
    }
   ],
   "source": [
    "linear = Model(f)\n",
    "mydata = RealData(i2[:v2.size-3],v2[:v2.size-3],sx=di2[:v2.size-3], sy=dv2[:v2.size-3])\n",
    "myodr = ODR(mydata, linear, beta0=[1., 1.])\n",
    "myoutput = myodr.run()\n",
    "myoutput.pprint()"
   ]
  },
  {
   "cell_type": "code",
   "execution_count": 104,
   "metadata": {},
   "outputs": [],
   "source": [
    "a2,b2 = myoutput.beta\n",
    "da2,db2 = myoutput.sd_beta\n",
    "cov2 = myoutput.cov_beta"
   ]
  },
  {
   "cell_type": "code",
   "execution_count": 105,
   "metadata": {},
   "outputs": [
    {
     "name": "stderr",
     "output_type": "stream",
     "text": [
      "/var/folders/bd/5ss8qyms4cd6_t67dg1pjhbw0000gn/T/ipykernel_71452/3962653116.py:3: UserWarning: marker is redundantly defined by the 'marker' keyword argument and the fmt string \"o\" (-> marker='o'). The keyword argument will take precedence.\n",
      "  ax.errorbar(v2, i2, xerr=dv2 , yerr=di2, fmt=\"o\", label = 'data', marker = '.', markerfacecolor='white', markersize=10)\n"
     ]
    },
    {
     "data": {
      "text/plain": [
       "<matplotlib.legend.Legend at 0x1375ac5d0>"
      ]
     },
     "execution_count": 105,
     "metadata": {},
     "output_type": "execute_result"
    },
    {
     "data": {
      "image/png": "[encoded data removed]",
      "text/plain": [
       "<Figure size 640x480 with 1 Axes>"
      ]
     },
     "metadata": {},
     "output_type": "display_data"
    }
   ],
   "source": [
    "fig, ax = plt.subplots()\n",
    "ax.plot(a2+b2*i2[:v2.size-3], i2[:v2.size-3], label = 'fit')\n",
    "ax.errorbar(v2, i2, xerr=dv2 , yerr=di2, fmt=\"o\", label = 'data', marker = '.', markerfacecolor='white', markersize=10)\n",
    "plt.legend()"
   ]
  },
  {
   "cell_type": "markdown",
   "metadata": {},
   "source": [
    "Parametri caso 0.14"
   ]
  },
  {
   "cell_type": "code",
   "execution_count": null,
   "metadata": {},
   "outputs": [],
   "source": [
    "#calculating g:\n",
    "g = 1/b\n",
    "dg = db/(b**2) #d(g(b)) = |g'(b)|db = db/(b)^2\n",
    "\n",
    "g2 = 1/b2\n",
    "dg2 = db2/(b2**2)\n",
    "\n",
    "#calculating beta: come si calcola beta???\n"
   ]
  }
 ],
 "metadata": {
  "kernelspec": {
   "display_name": "Python 3",
   "language": "python",
   "name": "python3"
  },
  "language_info": {
   "codemirror_mode": {
    "name": "ipython",
    "version": 3
   },
   "file_extension": ".py",
   "mimetype": "text/x-python",
   "name": "python",
   "nbconvert_exporter": "python",
   "pygments_lexer": "ipython3",
   "version": "3.11.8"
  }
 },
 "nbformat": 4,
 "nbformat_minor": 2
}
